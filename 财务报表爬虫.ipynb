{
 "cells": [
  {
   "cell_type": "code",
   "execution_count": 152,
   "metadata": {},
   "outputs": [],
   "source": [
    "from selenium import webdriver\n",
    "import requests,json\n",
    "import pandas as pd\n",
    "import numpy as np\n",
    "import os,time"
   ]
  },
  {
   "cell_type": "code",
   "execution_count": 33,
   "metadata": {},
   "outputs": [],
   "source": [
    "url = 'http://f10.eastmoney.com/NewFinanceAnalysis/{}Ajax?companyType=4&reportDateType=0&reportType=1&endDate={}&code={}'"
   ]
  },
  {
   "cell_type": "markdown",
   "metadata": {},
   "source": [
    "## 爬虫\n",
    "* 存储结构\n",
    "    * 航空公司\n",
    "    * 表格类型\n",
    "    * 时间"
   ]
  },
  {
   "cell_type": "code",
   "execution_count": 34,
   "metadata": {},
   "outputs": [],
   "source": [
    "# 股票代码\n",
    "dic_code = {}\n",
    "dic_code[\"东方航空\"] = 'SH600115'\n",
    "dic_code[\"南方航空\"] = 'sh600029'\n",
    "dic_code[\"春秋航空\"] = 'sh601021'\n",
    "dic_code[\"海南航空\"] = 'sh600221'\n",
    "dic_code[\"中国国航\"] = 'sh601111'\n",
    "dic_code[\"吉祥航空\"] = 'sh603885'"
   ]
  },
  {
   "cell_type": "code",
   "execution_count": 60,
   "metadata": {},
   "outputs": [],
   "source": [
    "#日期\n",
    "\n",
    "date = ['2020-6-30','2018-12-31','2017-6-30','2015-12-31']"
   ]
  },
  {
   "cell_type": "code",
   "execution_count": 7,
   "metadata": {},
   "outputs": [],
   "source": [
    "#reporttype\n",
    "dic_rtype = {}\n",
    "dic_rtype['资产负债表'] = 'zcfzb'\n",
    "dic_rtype['利润表'] = 'lrb'\n",
    "dic_rtype['现金流量表'] = 'xjllb'"
   ]
  },
  {
   "cell_type": "code",
   "execution_count": 61,
   "metadata": {
    "collapsed": true
   },
   "outputs": [
    {
     "name": "stdout",
     "output_type": "stream",
     "text": [
      "东方航空 资产负债表 2020-6-30\n",
      "东方航空 资产负债表 2018-12-31\n",
      "东方航空 资产负债表 2017-6-30\n",
      "东方航空 资产负债表 2015-12-31\n",
      "东方航空 利润表 2020-6-30\n",
      "东方航空 利润表 2018-12-31\n",
      "东方航空 利润表 2017-6-30\n",
      "东方航空 利润表 2015-12-31\n",
      "东方航空 现金流量表 2020-6-30\n",
      "东方航空 现金流量表 2018-12-31\n",
      "东方航空 现金流量表 2017-6-30\n",
      "东方航空 现金流量表 2015-12-31\n",
      "南方航空 资产负债表 2020-6-30\n",
      "南方航空 资产负债表 2018-12-31\n",
      "南方航空 资产负债表 2017-6-30\n",
      "南方航空 资产负债表 2015-12-31\n",
      "南方航空 利润表 2020-6-30\n",
      "南方航空 利润表 2018-12-31\n",
      "南方航空 利润表 2017-6-30\n",
      "南方航空 利润表 2015-12-31\n",
      "南方航空 现金流量表 2020-6-30\n",
      "南方航空 现金流量表 2018-12-31\n",
      "南方航空 现金流量表 2017-6-30\n",
      "南方航空 现金流量表 2015-12-31\n",
      "春秋航空 资产负债表 2020-6-30\n",
      "春秋航空 资产负债表 2018-12-31\n",
      "春秋航空 资产负债表 2017-6-30\n",
      "春秋航空 资产负债表 2015-12-31\n",
      "春秋航空 利润表 2020-6-30\n",
      "春秋航空 利润表 2018-12-31\n",
      "春秋航空 利润表 2017-6-30\n",
      "春秋航空 利润表 2015-12-31\n",
      "春秋航空 现金流量表 2020-6-30\n",
      "春秋航空 现金流量表 2018-12-31\n",
      "春秋航空 现金流量表 2017-6-30\n",
      "春秋航空 现金流量表 2015-12-31\n",
      "海南航空 资产负债表 2020-6-30\n",
      "海南航空 资产负债表 2018-12-31\n",
      "海南航空 资产负债表 2017-6-30\n",
      "海南航空 资产负债表 2015-12-31\n",
      "海南航空 利润表 2020-6-30\n",
      "海南航空 利润表 2018-12-31\n",
      "海南航空 利润表 2017-6-30\n",
      "海南航空 利润表 2015-12-31\n",
      "海南航空 现金流量表 2020-6-30\n",
      "海南航空 现金流量表 2018-12-31\n",
      "海南航空 现金流量表 2017-6-30\n",
      "海南航空 现金流量表 2015-12-31\n",
      "中国国航 资产负债表 2020-6-30\n",
      "中国国航 资产负债表 2018-12-31\n",
      "中国国航 资产负债表 2017-6-30\n",
      "中国国航 资产负债表 2015-12-31\n",
      "中国国航 利润表 2020-6-30\n",
      "中国国航 利润表 2018-12-31\n",
      "中国国航 利润表 2017-6-30\n",
      "中国国航 利润表 2015-12-31\n",
      "中国国航 现金流量表 2020-6-30\n",
      "中国国航 现金流量表 2018-12-31\n",
      "中国国航 现金流量表 2017-6-30\n",
      "中国国航 现金流量表 2015-12-31\n",
      "吉祥航空 资产负债表 2020-6-30\n",
      "吉祥航空 资产负债表 2018-12-31\n",
      "吉祥航空 资产负债表 2017-6-30\n",
      "吉祥航空 资产负债表 2015-12-31\n",
      "吉祥航空 利润表 2020-6-30\n",
      "吉祥航空 利润表 2018-12-31\n",
      "吉祥航空 利润表 2017-6-30\n",
      "吉祥航空 利润表 2015-12-31\n",
      "吉祥航空 现金流量表 2020-6-30\n",
      "吉祥航空 现金流量表 2018-12-31\n",
      "吉祥航空 现金流量表 2017-6-30\n",
      "吉祥航空 现金流量表 2015-12-31\n"
     ]
    }
   ],
   "source": [
    "for i in dic_code.keys():\n",
    "    for j in dic_rtype.keys():\n",
    "        df_temp = pd.DataFrame()\n",
    "        for k in date:\n",
    "            print(i,j,k)\n",
    "            r = requests.get(url.format(dic_rtype[j],k,dic_code[i]))\n",
    "            time.sleep(20)\n",
    "            rr = eval(r.text.replace('\\\\','')[2:-2]) #获取存储元组\n",
    "            for l in range(len(rr)):\n",
    "                df_temp[rr[l][\"REPORTDATE\"]] = rr[l].values()\n",
    "        df_temp.index = rr[0].keys()\n",
    "        df_temp =df_temp.iloc[4:,:]\n",
    "        df_temp.to_csv(\"{}-{}.csv\".format(dic_code[i],j))"
   ]
  },
  {
   "cell_type": "markdown",
   "metadata": {},
   "source": [
    "## 数据整理"
   ]
  },
  {
   "cell_type": "code",
   "execution_count": 64,
   "metadata": {},
   "outputs": [],
   "source": [
    "data_dir = '财务报表数据/'"
   ]
  },
  {
   "cell_type": "markdown",
   "metadata": {},
   "source": [
    "### 指标解释"
   ]
  },
  {
   "cell_type": "code",
   "execution_count": 71,
   "metadata": {},
   "outputs": [],
   "source": [
    "exp1 = pd.read_excel(data_dir+\"指标解释.xlsx\",0) #现金流量表\n",
    "exp2 = pd.read_excel(data_dir+\"指标解释.xlsx\",1) #利润表\n",
    "exp3 = pd.read_excel(data_dir+\"指标解释.xlsx\",2) #资产负债表"
   ]
  },
  {
   "cell_type": "markdown",
   "metadata": {},
   "source": [
    "### 指标筛选"
   ]
  },
  {
   "cell_type": "code",
   "execution_count": 115,
   "metadata": {},
   "outputs": [],
   "source": [
    "try:\n",
    "    os.mkdir(\"处理后财务数据\")\n",
    "except:\n",
    "    pass\n",
    "\n",
    "data_dir2 = '处理后财务数据/'"
   ]
  },
  {
   "cell_type": "code",
   "execution_count": 116,
   "metadata": {},
   "outputs": [],
   "source": [
    "dic_exp = {}\n",
    "dic_exp[\"现金流量表\"]=exp1\n",
    "dic_exp[\"利润表\"]=exp2\n",
    "dic_exp[\"资产负债表\"]=exp3\n",
    "\n",
    "def process(x):\n",
    "    print(x)\n",
    "    df_temp = pd.read_csv(data_dir+x,index_col=0)\n",
    "    Type = x.split(\"-\")[-1].split(\".\")[0]\n",
    "    exp = dic_exp[Type]\n",
    "    if Type == \"现金流量表\":\n",
    "        index = exp[\"原始指标\"]\n",
    "    elif Type == \"利润表\":\n",
    "        index = exp[\"原始指标\"]\n",
    "    elif Type == \"资产负债表\":\n",
    "        index = exp[\"原始指标\"]\n",
    "    df_temp = df_temp.loc[index,:]\n",
    "    df_temp.index = list(exp[\"含义\"])\n",
    "    df_temp.to_csv(data_dir2+'(新)'+x)"
   ]
  },
  {
   "cell_type": "code",
   "execution_count": 117,
   "metadata": {
    "collapsed": true
   },
   "outputs": [
    {
     "name": "stdout",
     "output_type": "stream",
     "text": [
      "sh600029-资产负债表.csv\n",
      "sh601111-利润表.csv\n",
      "sh600221-资产负债表.csv\n",
      "sh601021-现金流量表.csv\n",
      "sh603885-资产负债表.csv\n",
      "sh600029-利润表.csv\n",
      "SH600115-现金流量表.csv\n",
      "sh601111-现金流量表.csv\n",
      "sh601111-资产负债表.csv\n",
      "SH600115-资产负债表.csv\n",
      "sh603885-现金流量表.csv\n",
      "sh603885-利润表.csv\n",
      "sh601021-资产负债表.csv\n",
      "sh601021-利润表.csv\n",
      "sh600221-现金流量表.csv\n",
      "SH600115-利润表.csv\n",
      "sh600029-现金流量表.csv\n",
      "sh600221-利润表.csv\n"
     ]
    }
   ],
   "source": [
    "for i in [i for i in os.listdir(data_dir) if i.split('.')[-1] == \"csv\"]:\n",
    "     process(i)"
   ]
  },
  {
   "cell_type": "code",
   "execution_count": 118,
   "metadata": {},
   "outputs": [
    {
     "data": {
      "text/plain": [
       "dict_keys(['资产负债表', '利润表', '现金流量表'])"
      ]
     },
     "execution_count": 118,
     "metadata": {},
     "output_type": "execute_result"
    }
   ],
   "source": [
    "dic_rtype.keys()"
   ]
  },
  {
   "cell_type": "markdown",
   "metadata": {},
   "source": [
    "### 公司表格合并"
   ]
  },
  {
   "cell_type": "code",
   "execution_count": 132,
   "metadata": {},
   "outputs": [],
   "source": [
    "for i in dic_code.values():\n",
    "    for j in dic_rtype.keys():\n",
    "        if j == '资产负债表':\n",
    "            df = pd.read_csv(data_dir2+\"(新)\"+i+'-'+j+'.csv',index_col=0)\n",
    "        else:\n",
    "            df_temp = pd.read_csv(data_dir2+\"(新)\"+i+'-'+j+'.csv',index_col=0)\n",
    "            df = df.append(df_temp)\n",
    "    df.to_csv(f\"{i}.csv\")\n",
    "        "
   ]
  },
  {
   "cell_type": "markdown",
   "metadata": {},
   "source": [
    "## 指标构建"
   ]
  },
  {
   "cell_type": "code",
   "execution_count": 134,
   "metadata": {},
   "outputs": [],
   "source": [
    "data_dir3 = '合并财务数据/'"
   ]
  },
  {
   "cell_type": "code",
   "execution_count": 157,
   "metadata": {},
   "outputs": [],
   "source": [
    "df = pd.read_csv(data_dir3+'sh600029.csv',index_col=0).T"
   ]
  },
  {
   "cell_type": "markdown",
   "metadata": {},
   "source": [
    "### 财务报表指标"
   ]
  },
  {
   "cell_type": "markdown",
   "metadata": {},
   "source": [
    "* liquidity:\n",
    "    * cash flow to total assets; (CASH/TA)\n",
    "    * liabilities to total assets; (CLIAB/TA)\n",
    "    * current assets to operating revenue; (CA/REV)\n",
    "    * current assets to total assets; (CA/TA)\n",
    "* profitability measures:\n",
    "    * net income to equity; (NETINC/EQUITY)\n",
    "    * retained earnings to total assets; (REARN/TA)\n",
    "    * profit to operating expenses; (PROFIT/OE)\n",
    "* efficiency ratio:\n",
    "    * operatingexpenses to revenue; (OE/REV)\n",
    "    * leverage measure:\n",
    "    * total liabilities to total assets; (TLIAB/TA)"
   ]
  },
  {
   "cell_type": "markdown",
   "metadata": {},
   "source": [
    "#### liquidity"
   ]
  },
  {
   "cell_type": "code",
   "execution_count": 158,
   "metadata": {},
   "outputs": [],
   "source": [
    "# cash flow to total assets; (CASH/TA)\n",
    "liquidity1 = df[\"货币资金\"]/df[\"资产合计\"]\n",
    "\n",
    "# liabilities to total assets; (CLIAB/TA)\n",
    "liquidity2 = df[\"负债合计\"]/df[\"资产合计\"]\n",
    "\n",
    "# current assets to operating revenue\n",
    "liquidity3 = df[\"流动资产合计\"]/df[\"营业收入\"]\n",
    "\n",
    "# current assets to total assets; (CA/TA)\n",
    "liquidity4 = df[\"流动资产合计\"]/df[\"资产合计\"]\n"
   ]
  },
  {
   "cell_type": "markdown",
   "metadata": {},
   "source": [
    "#### profitability"
   ]
  },
  {
   "cell_type": "code",
   "execution_count": null,
   "metadata": {},
   "outputs": [],
   "source": [
    "# net income to equity; (NETINC/EQUITY)\n",
    "profit1 = df[\"净利润\"]/df[\"股东权益合计\"]\n",
    "\n",
    "# retained earnings to total assets; (REARN/TA)\n",
    "profit2 = df[\"盈余公积\"] / df[\"资产合计\"]\n",
    "\n",
    "# profit to operating expenses; (PROFIT/OE)\n",
    "profit3 = df[\"营业收入\"]/df[\"营业总成本\"]"
   ]
  },
  {
   "cell_type": "markdown",
   "metadata": {},
   "source": [
    "#### efficiency"
   ]
  },
  {
   "cell_type": "code",
   "execution_count": 159,
   "metadata": {},
   "outputs": [],
   "source": [
    "# operating expenses to revenue; (OE/REV)\n",
    "efficiency1 = df[\"营业成本\"]/df[\"营业收入\"]\n",
    "\n",
    "# leverage measure\n",
    "efficiency2 = df[\"负债合计\"]/df[\"股东权益合计\"]\n",
    "\n",
    "#total liabilities to total assets; (TLIAB/TA)\n",
    "efficiency3 = df[\"负债合计\"]/df[\"资产合计\"]"
   ]
  },
  {
   "cell_type": "markdown",
   "metadata": {},
   "source": [
    "### P-score model"
   ]
  },
  {
   "cell_type": "code",
   "execution_count": 155,
   "metadata": {},
   "outputs": [],
   "source": [
    "X1 = df[\"营业收入\"]/df[\"资产合计\"]\n",
    "X2 = df[\"盈余公积\"]/df[\"资产合计\"]\n",
    "X3 = df[\"股东权益合计\"]/df[\"负债合计\"]\n",
    "X4 = df[\"流动资产合计\"]/df[\"流动负债合计\"]\n",
    "X5 = df[\"利润总额\"]/df[\"营业收入\"]\n",
    "w = -1.98*X1-4.95*X2-1.96*X3-0.14*X4-2.38*X5\n",
    "P = w.apply(lambda x: 1/(1+np.exp(-x)))"
   ]
  },
  {
   "cell_type": "markdown",
   "metadata": {},
   "source": [
    "### DOL DFL DCL\n"
   ]
  },
  {
   "cell_type": "markdown",
   "metadata": {},
   "source": [
    "* DOL = (R-V)/(R-V-F)\n",
    "    * 暂定 研发、销售、管理、财务费用是固定成本"
   ]
  },
  {
   "cell_type": "code",
   "execution_count": 162,
   "metadata": {},
   "outputs": [],
   "source": [
    "DOL = (df[\"营业收入\"]-df[\"营业成本\"]-df[\"营业税金及附加\"])/df[\"营业利润\"]"
   ]
  },
  {
   "cell_type": "markdown",
   "metadata": {},
   "source": [
    "* DFL = (R-V-F)/(R-V-F-I) = operating profit / (operating profit - interest)\n"
   ]
  },
  {
   "cell_type": "code",
   "execution_count": 161,
   "metadata": {},
   "outputs": [],
   "source": [
    "DFL = df[\"营业利润\"]/(df[\"营业利润\"]-df[\"财务费用\"])"
   ]
  },
  {
   "cell_type": "markdown",
   "metadata": {},
   "source": [
    "* DCL = DOL * DFL"
   ]
  },
  {
   "cell_type": "code",
   "execution_count": 163,
   "metadata": {},
   "outputs": [],
   "source": [
    "DCL = DOL*DFL"
   ]
  },
  {
   "cell_type": "markdown",
   "metadata": {},
   "source": [
    "### 指标计算"
   ]
  },
  {
   "cell_type": "code",
   "execution_count": 170,
   "metadata": {},
   "outputs": [],
   "source": [
    "def calculate(x):\n",
    "    df = pd.read_csv(data_dir3+x,index_col=0).T\n",
    "    # cash flow to total assets; (CASH/TA)\n",
    "    liquidity1 = df[\"货币资金\"]/df[\"资产合计\"]\n",
    "\n",
    "    # liabilities to total assets; (CLIAB/TA)\n",
    "    liquidity2 = df[\"负债合计\"]/df[\"资产合计\"]\n",
    "\n",
    "    # current assets to operating revenue\n",
    "    liquidity3 = df[\"流动资产合计\"]/df[\"营业收入\"]\n",
    "\n",
    "    # current assets to total assets; (CA/TA)\n",
    "    liquidity4 = df[\"流动资产合计\"]/df[\"资产合计\"]\n",
    "    # net income to equity; (NETINC/EQUITY)\n",
    "    profit1 = df[\"净利润\"]/df[\"股东权益合计\"]\n",
    "\n",
    "    # retained earnings to total assets; (REARN/TA)\n",
    "    profit2 = df[\"盈余公积\"] / df[\"资产合计\"]\n",
    "\n",
    "    # profit to operating expenses; (PROFIT/OE)\n",
    "    profit3 = df[\"营业收入\"]/df[\"营业总成本\"]\n",
    "\n",
    "    # operating expenses to revenue; (OE/REV)\n",
    "    efficiency1 = df[\"营业成本\"]/df[\"营业收入\"]\n",
    "\n",
    "    # leverage measure\n",
    "    efficiency2 = df[\"负债合计\"]/df[\"股东权益合计\"]\n",
    "\n",
    "    #total liabilities to total assets; (TLIAB/TA)\n",
    "    efficiency3 = df[\"负债合计\"]/df[\"资产合计\"]\n",
    "    \n",
    "    X1 = df[\"营业收入\"]/df[\"资产合计\"]\n",
    "    X2 = df[\"盈余公积\"]/df[\"资产合计\"]\n",
    "    X3 = df[\"股东权益合计\"]/df[\"负债合计\"]\n",
    "    X4 = df[\"流动资产合计\"]/df[\"流动负债合计\"]\n",
    "    X5 = df[\"利润总额\"]/df[\"营业收入\"]\n",
    "    w = -1.98*X1-4.95*X2-1.96*X3-0.14*X4-2.38*X5\n",
    "    P = w.apply(lambda x: 1/(1+np.exp(-x)))\n",
    "    \n",
    "    DOL = (df[\"营业收入\"]-df[\"营业成本\"]-df[\"营业税金及附加\"])/df[\"营业利润\"]\n",
    "    DFL = df[\"营业利润\"]/(df[\"营业利润\"]-df[\"财务费用\"])\n",
    "    DCL = DOL*DFL\n",
    "    \n",
    "    for i in range(1,5):\n",
    "        df[\"liquidity\"+str(i)] = eval(\"liquidity\"+str(i))\n",
    "    for i in range(1,4):\n",
    "        df[\"profit\"+str(i)] = eval(\"profit\"+str(i))\n",
    "    for i in range(1,4):\n",
    "        df[\"efficiency\"+str(i)] = eval(\"efficiency\"+str(i))\n",
    "    \n",
    "    for i in [\"P\",\"DOL\",\"DFL\",\"DCL\"]:\n",
    "        df[i] = eval(i)\n",
    "    \n",
    "    df = df.T\n",
    "    df.to_csv(f\"{i}_final.csv\")\n",
    "    return df"
   ]
  },
  {
   "cell_type": "code",
   "execution_count": 169,
   "metadata": {},
   "outputs": [],
   "source": [
    "for i in os.listdir(data_dir3):\n",
    "    calculate(i)"
   ]
  },
  {
   "cell_type": "code",
   "execution_count": null,
   "metadata": {},
   "outputs": [],
   "source": []
  }
 ],
 "metadata": {
  "hide_input": false,
  "kernelspec": {
   "display_name": "Python 3",
   "language": "python",
   "name": "python3"
  },
  "language_info": {
   "codemirror_mode": {
    "name": "ipython",
    "version": 3
   },
   "file_extension": ".py",
   "mimetype": "text/x-python",
   "name": "python",
   "nbconvert_exporter": "python",
   "pygments_lexer": "ipython3",
   "version": "3.7.1"
  },
  "toc": {
   "base_numbering": 1,
   "nav_menu": {},
   "number_sections": true,
   "sideBar": true,
   "skip_h1_title": false,
   "title_cell": "Table of Contents",
   "title_sidebar": "Contents",
   "toc_cell": false,
   "toc_position": {},
   "toc_section_display": true,
   "toc_window_display": false
  }
 },
 "nbformat": 4,
 "nbformat_minor": 2
}
