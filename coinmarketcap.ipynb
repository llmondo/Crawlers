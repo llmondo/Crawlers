{
 "cells": [
  {
   "cell_type": "code",
   "execution_count": 1,
   "metadata": {},
   "outputs": [],
   "source": [
    "from selenium import webdriver\n",
    "import os\n",
    "import time\n",
    "import pandas as pd"
   ]
  },
  {
   "cell_type": "code",
   "execution_count": 2,
   "metadata": {},
   "outputs": [],
   "source": [
    "chrome_options = webdriver.ChromeOptions()\n",
    "prefs = {\"profile.managed_default_content_settings.images\": 2}\n",
    "chrome_options.add_experimental_option(\"prefs\", prefs)\n",
    "browser = webdriver.Chrome(options=chrome_options)"
   ]
  },
  {
   "cell_type": "code",
   "execution_count": 3,
   "metadata": {},
   "outputs": [],
   "source": [
    "#市值排名截止至2020.02.11\n",
    "\n",
    "coins = {\n",
    "    \"BTC\":\"bitcoin\", #1\n",
    "    \"ETH\":\"ethereum\", #2\n",
    "    \"XRP\":\"xrp\", #3\n",
    "    \"EOS\":\"eos\", #7\n",
    "    \"TRX\":\"tron\",#12\n",
    "    \"ONT\":\"ontology\",#20\n",
    "    \"VET\":\"vechain\",#23\n",
    "    \"QTUM\":\"qtum\", #24 \n",
    "}"
   ]
  },
  {
   "cell_type": "code",
   "execution_count": 4,
   "metadata": {},
   "outputs": [],
   "source": [
    "def numeric(x):\n",
    "    x = x.replace(\",\",\"\")\n",
    "    return float(x)"
   ]
  },
  {
   "cell_type": "code",
   "execution_count": 5,
   "metadata": {},
   "outputs": [],
   "source": [
    "def cm_crawler(name,b_date,e_date):\n",
    "    s_time = time.time()\n",
    "    browser.get(\"https://coinmarketcap.com/currencies/{}/historical-data/?start={}&end={}\".format(coins[name],b_date,e_date))\n",
    "    browser.execute_script('window.scrollTo(0,document.body.scrollHeight)')\n",
    "    time.sleep(10)\n",
    "    date   = [i.text for i in browser.find_elements_by_xpath('//tr[@class=\"cmc-table-row\"]/td[1]')]\n",
    "    open_  = [numeric(i.text) for i in browser.find_elements_by_xpath('//tr[@class=\"cmc-table-row\"]/td[2]')]\n",
    "    high   = [numeric(i.text) for i in browser.find_elements_by_xpath('//tr[@class=\"cmc-table-row\"]/td[3]')]\n",
    "    low    = [numeric(i.text) for i in browser.find_elements_by_xpath('//tr[@class=\"cmc-table-row\"]/td[4]')]\n",
    "    close  = [numeric(i.text) for i in browser.find_elements_by_xpath('//tr[@class=\"cmc-table-row\"]/td[5]')]\n",
    "    volume = [numeric(i.text) for i in browser.find_elements_by_xpath('//tr[@class=\"cmc-table-row\"]/td[6]')]\n",
    "    market_cap= [numeric(i.text) for i in browser.find_elements_by_xpath('//tr[@class=\"cmc-table-row\"]/td[7]')]\n",
    "    e_time = time.time()\n",
    "    p_time = round(e_time-s_time,3)\n",
    "    print(\"search over! use {}s\".format(p_time))\n",
    "    df=pd.DataFrame()\n",
    "    for i in['date','open_','high','low','close','volume','market_cap']:\n",
    "        df[i]=eval(i)\n",
    "    df.to_excel('../coinmarketcap/origin/coinmarketcap_{}_{}_{}.xlsx'.format(name,b_date,e_date))"
   ]
  },
  {
   "cell_type": "code",
   "execution_count": 6,
   "metadata": {},
   "outputs": [],
   "source": [
    "b_date = \"20180101\"\n",
    "e_date = \"20191231\""
   ]
  },
  {
   "cell_type": "code",
   "execution_count": 7,
   "metadata": {},
   "outputs": [],
   "source": [
    "#生成储存文件夹\n",
    "try:\n",
    "    os.mkdir('../coinmarketcap')\n",
    "except:\n",
    "    pass\n",
    "try:\n",
    "    os.mkdir('../coinmarketcap/origin')\n",
    "except:\n",
    "    pass"
   ]
  },
  {
   "cell_type": "code",
   "execution_count": 8,
   "metadata": {},
   "outputs": [],
   "source": [
    "def main(b_date,e_date):\n",
    "    for name in coins.keys():\n",
    "        print(name)\n",
    "        cm_crawler(name,b_date,e_date)\n",
    "        time.sleep(10)"
   ]
  },
  {
   "cell_type": "code",
   "execution_count": 9,
   "metadata": {},
   "outputs": [
    {
     "name": "stdout",
     "output_type": "stream",
     "text": [
      "BTC\n",
      "search over! use 161.93s\n",
      "ETH\n",
      "search over! use 150.69s\n",
      "XRP\n",
      "search over! use 145.457s\n",
      "EOS\n",
      "search over! use 139.242s\n",
      "TRX\n",
      "search over! use 40.656s\n",
      "ONT\n",
      "search over! use 140.529s\n",
      "VET\n",
      "search over! use 104.456s\n",
      "QTUM\n",
      "search over! use 176.152s\n"
     ]
    }
   ],
   "source": [
    "main(b_date,e_date)"
   ]
  },
  {
   "cell_type": "code",
   "execution_count": 11,
   "metadata": {},
   "outputs": [
    {
     "name": "stdout",
     "output_type": "stream",
     "text": [
      "search over! use 127.187s\n"
     ]
    }
   ],
   "source": [
    "cm_crawler(\"VET\",b_date,e_date)"
   ]
  },
  {
   "cell_type": "code",
   "execution_count": null,
   "metadata": {},
   "outputs": [],
   "source": []
  }
 ],
 "metadata": {
  "kernelspec": {
   "display_name": "Python 3",
   "language": "python",
   "name": "python3"
  },
  "language_info": {
   "codemirror_mode": {
    "name": "ipython",
    "version": 3
   },
   "file_extension": ".py",
   "mimetype": "text/x-python",
   "name": "python",
   "nbconvert_exporter": "python",
   "pygments_lexer": "ipython3",
   "version": "3.7.1"
  }
 },
 "nbformat": 4,
 "nbformat_minor": 2
}
